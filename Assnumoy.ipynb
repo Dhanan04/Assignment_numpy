{
 "cells": [
  {
   "cell_type": "code",
   "execution_count": 14,
   "id": "edd82d29-f98b-494e-97bf-2d9d9c6dc12c",
   "metadata": {},
   "outputs": [],
   "source": [
    "import numpy as np\n",
    "list_ = [ '1' , '2' , '3' ,'4'  , '5' ]\n",
    "array_list = np.array(object = list_)"
   ]
  },
  {
   "cell_type": "code",
   "execution_count": 15,
   "id": "3713c835-58d7-4e0a-86d2-7eed631aa884",
   "metadata": {},
   "outputs": [
    {
     "data": {
      "text/plain": [
       "['1', '2', '3', '4', '5']"
      ]
     },
     "execution_count": 15,
     "metadata": {},
     "output_type": "execute_result"
    }
   ],
   "source": [
    "list_"
   ]
  },
  {
   "cell_type": "code",
   "execution_count": 16,
   "id": "b16a3434-05e9-4727-ba65-38e0327c65d0",
   "metadata": {},
   "outputs": [
    {
     "data": {
      "text/plain": [
       "array(['1', '2', '3', '4', '5'], dtype='<U1')"
      ]
     },
     "execution_count": 16,
     "metadata": {},
     "output_type": "execute_result"
    }
   ],
   "source": [
    "array_list"
   ]
  },
  {
   "cell_type": "markdown",
   "id": "639b6fdf-31ad-4c1a-947c-d0c9f241a542",
   "metadata": {},
   "source": [
    " Q1. ans.)\n",
    "yes there is an difference btw the data type of the variables list+ and array_list"
   ]
  },
  {
   "cell_type": "code",
   "execution_count": 26,
   "id": "c40089e2-f702-48f5-82d6-906d5315e6a0",
   "metadata": {},
   "outputs": [
    {
     "data": {
      "text/plain": [
       "list"
      ]
     },
     "execution_count": 26,
     "metadata": {},
     "output_type": "execute_result"
    }
   ],
   "source": [
    "type(list_)"
   ]
  },
  {
   "cell_type": "code",
   "execution_count": 27,
   "id": "25e1f533-808e-42e2-a2a0-91f6d60b29a0",
   "metadata": {},
   "outputs": [
    {
     "data": {
      "text/plain": [
       "numpy.ndarray"
      ]
     },
     "execution_count": 27,
     "metadata": {},
     "output_type": "execute_result"
    }
   ],
   "source": [
    "type(array_list)"
   ]
  },
  {
   "cell_type": "code",
   "execution_count": 24,
   "id": "855d1c83-a612-44c9-bf86-c7b283d0bacc",
   "metadata": {},
   "outputs": [
    {
     "data": {
      "text/plain": [
       "['1', '2', '3', '4', '5']"
      ]
     },
     "execution_count": 24,
     "metadata": {},
     "output_type": "execute_result"
    }
   ],
   "source": [
    "list(list_)"
   ]
  },
  {
   "cell_type": "code",
   "execution_count": 25,
   "id": "545e9723-27dc-4a69-915d-b7b76cb60c78",
   "metadata": {},
   "outputs": [
    {
     "data": {
      "text/plain": [
       "['1', '2', '3', '4', '5']"
      ]
     },
     "execution_count": 25,
     "metadata": {},
     "output_type": "execute_result"
    }
   ],
   "source": [
    "list(array_list)"
   ]
  },
  {
   "cell_type": "markdown",
   "id": "e497853a-b9f7-42cf-a1af-d09237a13bdf",
   "metadata": {},
   "source": [
    "Q2.  ans"
   ]
  },
  {
   "cell_type": "code",
   "execution_count": 28,
   "id": "4cdcbe3f-a8d1-41a8-86e1-7c29424c716b",
   "metadata": {},
   "outputs": [
    {
     "data": {
      "text/plain": [
       "list"
      ]
     },
     "execution_count": 28,
     "metadata": {},
     "output_type": "execute_result"
    }
   ],
   "source": [
    "type(list(list_))"
   ]
  },
  {
   "cell_type": "code",
   "execution_count": 39,
   "id": "7a133758-4244-43ef-8f94-dc20d18e6197",
   "metadata": {},
   "outputs": [
    {
     "data": {
      "text/plain": [
       "list"
      ]
     },
     "execution_count": 39,
     "metadata": {},
     "output_type": "execute_result"
    }
   ],
   "source": [
    "type(list(array_list))"
   ]
  },
  {
   "cell_type": "markdown",
   "id": "1fbc0c11-dc59-43d8-b01f-466372355e55",
   "metadata": {},
   "source": [
    "Q3. ans"
   ]
  },
  {
   "cell_type": "code",
   "execution_count": 30,
   "id": "1564a82c-6e29-49f8-a05f-b595f6e99e71",
   "metadata": {},
   "outputs": [],
   "source": [
    "array_list = np.array(object = list_, dtype = int)"
   ]
  },
  {
   "cell_type": "code",
   "execution_count": 31,
   "id": "fa3e8ff2-bb7a-41a7-babc-8f5211b529e5",
   "metadata": {},
   "outputs": [
    {
     "data": {
      "text/plain": [
       "array([1, 2, 3, 4, 5])"
      ]
     },
     "execution_count": 31,
     "metadata": {},
     "output_type": "execute_result"
    }
   ],
   "source": [
    "array_list"
   ]
  },
  {
   "cell_type": "code",
   "execution_count": 37,
   "id": "d25c4816-cb65-4e80-a9a1-81cdffe831d3",
   "metadata": {},
   "outputs": [
    {
     "data": {
      "text/plain": [
       "numpy.ndarray"
      ]
     },
     "execution_count": 37,
     "metadata": {},
     "output_type": "execute_result"
    }
   ],
   "source": [
    "type((array_list))"
   ]
  },
  {
   "cell_type": "markdown",
   "id": "8241b4a5-67a7-4e0a-bbea-2ebdf11346d9",
   "metadata": {},
   "source": [
    "Q4. ans"
   ]
  },
  {
   "cell_type": "code",
   "execution_count": 40,
   "id": "8f2d7379-a0b7-41da-9d13-9b5732ac0d0c",
   "metadata": {},
   "outputs": [],
   "source": [
    "num_list = [ [ 1 , 2 , 3 ] , [ 4 , 5 , 6 ] ]\n",
    "num_array = np.array(object = num_list)"
   ]
  },
  {
   "cell_type": "code",
   "execution_count": 41,
   "id": "ec210611-470b-4cfd-9f6f-b7640d334bdd",
   "metadata": {},
   "outputs": [
    {
     "data": {
      "text/plain": [
       "[[1, 2, 3], [4, 5, 6]]"
      ]
     },
     "execution_count": 41,
     "metadata": {},
     "output_type": "execute_result"
    }
   ],
   "source": [
    "num_list"
   ]
  },
  {
   "cell_type": "code",
   "execution_count": 42,
   "id": "b8ba39fe-8c90-44ed-a7bd-7792fcf592fe",
   "metadata": {},
   "outputs": [
    {
     "data": {
      "text/plain": [
       "array([[1, 2, 3],\n",
       "       [4, 5, 6]])"
      ]
     },
     "execution_count": 42,
     "metadata": {},
     "output_type": "execute_result"
    }
   ],
   "source": [
    "num_array"
   ]
  },
  {
   "cell_type": "code",
   "execution_count": 43,
   "id": "d86a6e73-e441-439b-8ad5-ce86229e6e16",
   "metadata": {},
   "outputs": [],
   "source": [
    "#num_array shape and size"
   ]
  },
  {
   "cell_type": "code",
   "execution_count": 44,
   "id": "551a7f81-e138-4dff-a6f0-0b323877aad5",
   "metadata": {},
   "outputs": [
    {
     "data": {
      "text/plain": [
       "(2, 3)"
      ]
     },
     "execution_count": 44,
     "metadata": {},
     "output_type": "execute_result"
    }
   ],
   "source": [
    "np.shape(num_array)"
   ]
  },
  {
   "cell_type": "code",
   "execution_count": 45,
   "id": "f266312e-43ed-428e-b019-b0be74845b3f",
   "metadata": {},
   "outputs": [
    {
     "data": {
      "text/plain": [
       "6"
      ]
     },
     "execution_count": 45,
     "metadata": {},
     "output_type": "execute_result"
    }
   ],
   "source": [
    "np.size(num_array)"
   ]
  },
  {
   "cell_type": "markdown",
   "id": "fe11a8de-c49b-489c-9611-1487637bf34b",
   "metadata": {},
   "source": [
    "Q5. ans"
   ]
  },
  {
   "cell_type": "code",
   "execution_count": 55,
   "id": "49e6d7bd-5cbf-4359-8d98-7be7c6584ec0",
   "metadata": {},
   "outputs": [],
   "source": [
    "matrix = np.zeros((3,3))"
   ]
  },
  {
   "cell_type": "code",
   "execution_count": 56,
   "id": "9420fc44-fdc5-44c5-bc39-de9694d64897",
   "metadata": {},
   "outputs": [
    {
     "data": {
      "text/plain": [
       "array([[0., 0., 0.],\n",
       "       [0., 0., 0.],\n",
       "       [0., 0., 0.]])"
      ]
     },
     "execution_count": 56,
     "metadata": {},
     "output_type": "execute_result"
    }
   ],
   "source": [
    "matrix"
   ]
  },
  {
   "cell_type": "markdown",
   "id": "4b027b47-b6f3-418e-ac1c-1d9e6691cbda",
   "metadata": {},
   "source": [
    "Q6. ans"
   ]
  },
  {
   "cell_type": "code",
   "execution_count": 58,
   "id": "956843c1-ef55-4db3-a1de-857dfed390a7",
   "metadata": {},
   "outputs": [],
   "source": [
    "matrix2 = np.eye((5))"
   ]
  },
  {
   "cell_type": "code",
   "execution_count": 59,
   "id": "8ef5b590-a4f7-474a-beef-715217f33ec9",
   "metadata": {},
   "outputs": [
    {
     "data": {
      "text/plain": [
       "array([[1., 0., 0., 0., 0.],\n",
       "       [0., 1., 0., 0., 0.],\n",
       "       [0., 0., 1., 0., 0.],\n",
       "       [0., 0., 0., 1., 0.],\n",
       "       [0., 0., 0., 0., 1.]])"
      ]
     },
     "execution_count": 59,
     "metadata": {},
     "output_type": "execute_result"
    }
   ],
   "source": [
    "matrix2"
   ]
  },
  {
   "cell_type": "code",
   "execution_count": null,
   "id": "efe58321-9a5d-45e6-934b-ede2ff291754",
   "metadata": {},
   "outputs": [],
   "source": []
  }
 ],
 "metadata": {
  "kernelspec": {
   "display_name": "Python 3 (ipykernel)",
   "language": "python",
   "name": "python3"
  },
  "language_info": {
   "codemirror_mode": {
    "name": "ipython",
    "version": 3
   },
   "file_extension": ".py",
   "mimetype": "text/x-python",
   "name": "python",
   "nbconvert_exporter": "python",
   "pygments_lexer": "ipython3",
   "version": "3.10.8"
  }
 },
 "nbformat": 4,
 "nbformat_minor": 5
}
